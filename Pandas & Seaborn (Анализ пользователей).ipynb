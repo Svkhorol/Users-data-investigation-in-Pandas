{
 "cells": [
  {
   "cell_type": "markdown",
   "id": "0fdca25e-9b97-4aed-bf15-d839a668e8cd",
   "metadata": {},
   "source": [
    "### Users' data investigation  \n",
    " \n",
    "**Training task**  \n",
    "  \n",
    "----------------  \n",
    "The purpose of this project is to study interrelation of the number of successful orders with users' age, used device and other factors.  \n",
    "  \n",
    "Parts of analysis:  \n",
    "1. Loading data and preparation\n",
    "2. Clients who made the most of successful orders\n",
    "3. The most popular platform (the type of device)\n",
    "4. Premium and non-premium clients per age\n",
    "5. How many successful orders have the most of the clients made?\n",
    "6. Successful orders made with computer per client age\n",
    "  \n",
    "Datasets variables description:  \n",
    "\n",
    "<font size = 2> Dataset 1 - \"user_data\" - information about clients:\n",
    "- <font size = 2> client – user ID\n",
    "- <font size = 2> premium – whether the client is premium\n",
    "- <font size = 2> age – age  \n",
    "  \n",
    "<font size = 2> Dataset 2 - \"logs\" - information about client orders:\n",
    "- <font size = 2> client – user ID\n",
    "- <font size = 2> success – result (success – 1, no – 0)\n",
    "- <font size = 2> platform – platform\n",
    "- <font size = 2> time – Unix time"
   ]
  },
  {
   "cell_type": "markdown",
   "id": "ce57a549-64df-4992-a1f6-9681735fc95b",
   "metadata": {},
   "source": [
    "  "
   ]
  },
  {
   "cell_type": "markdown",
   "id": "5a24e89d-31f2-4a82-a3bd-0af95a29462b",
   "metadata": {},
   "source": [
    "#### 1. Loading data and preparation"
   ]
  },
  {
   "cell_type": "code",
   "execution_count": 1,
   "id": "5fdcfdf0-71b4-4b20-8e55-40bb2c8f34b7",
   "metadata": {},
   "outputs": [],
   "source": [
    "import pandas as pd\n",
    "import seaborn as sns\n",
    "import matplotlib.pyplot as plt\n"
   ]
  },
  {
   "cell_type": "code",
   "execution_count": 2,
   "id": "670789df-1bab-4704-8bf4-154b2a997921",
   "metadata": {},
   "outputs": [
    {
     "data": {
      "text/plain": [
       "(2954, 3)"
      ]
     },
     "execution_count": 2,
     "metadata": {},
     "output_type": "execute_result"
    }
   ],
   "source": [
    "user_data = pd.read_csv('DATA/user_data.csv')    # loading the dataset 1\n",
    "user_data.shape"
   ]
  },
  {
   "cell_type": "markdown",
   "id": "b31baf9c-809f-4274-a98e-7d6816551067",
   "metadata": {},
   "source": [
    "This dataset is composed of 2 954 lines and 3 columns, let's take a closer look"
   ]
  },
  {
   "cell_type": "code",
   "execution_count": 3,
   "id": "75a469c8-aa6c-4c16-befd-1c265a088de4",
   "metadata": {},
   "outputs": [
    {
     "data": {
      "text/html": [
       "<div>\n",
       "<style scoped>\n",
       "    .dataframe tbody tr th:only-of-type {\n",
       "        vertical-align: middle;\n",
       "    }\n",
       "\n",
       "    .dataframe tbody tr th {\n",
       "        vertical-align: top;\n",
       "    }\n",
       "\n",
       "    .dataframe thead th {\n",
       "        text-align: right;\n",
       "    }\n",
       "</style>\n",
       "<table border=\"1\" class=\"dataframe\">\n",
       "  <thead>\n",
       "    <tr style=\"text-align: right;\">\n",
       "      <th></th>\n",
       "      <th>client</th>\n",
       "      <th>premium</th>\n",
       "      <th>age</th>\n",
       "    </tr>\n",
       "  </thead>\n",
       "  <tbody>\n",
       "    <tr>\n",
       "      <th>555</th>\n",
       "      <td>85557</td>\n",
       "      <td>False</td>\n",
       "      <td>55</td>\n",
       "    </tr>\n",
       "    <tr>\n",
       "      <th>1126</th>\n",
       "      <td>88739</td>\n",
       "      <td>False</td>\n",
       "      <td>61</td>\n",
       "    </tr>\n",
       "    <tr>\n",
       "      <th>1807</th>\n",
       "      <td>83516</td>\n",
       "      <td>False</td>\n",
       "      <td>60</td>\n",
       "    </tr>\n",
       "    <tr>\n",
       "      <th>1866</th>\n",
       "      <td>46538</td>\n",
       "      <td>False</td>\n",
       "      <td>47</td>\n",
       "    </tr>\n",
       "    <tr>\n",
       "      <th>74</th>\n",
       "      <td>1676</td>\n",
       "      <td>False</td>\n",
       "      <td>38</td>\n",
       "    </tr>\n",
       "    <tr>\n",
       "      <th>2920</th>\n",
       "      <td>48820</td>\n",
       "      <td>False</td>\n",
       "      <td>45</td>\n",
       "    </tr>\n",
       "    <tr>\n",
       "      <th>1793</th>\n",
       "      <td>46784</td>\n",
       "      <td>True</td>\n",
       "      <td>57</td>\n",
       "    </tr>\n",
       "  </tbody>\n",
       "</table>\n",
       "</div>"
      ],
      "text/plain": [
       "      client  premium  age\n",
       "555    85557    False   55\n",
       "1126   88739    False   61\n",
       "1807   83516    False   60\n",
       "1866   46538    False   47\n",
       "74      1676    False   38\n",
       "2920   48820    False   45\n",
       "1793   46784     True   57"
      ]
     },
     "execution_count": 3,
     "metadata": {},
     "output_type": "execute_result"
    }
   ],
   "source": [
    "user_data.sample(7)"
   ]
  },
  {
   "cell_type": "code",
   "execution_count": 4,
   "id": "39d0e1be-55ef-4095-9d8a-caec3a1f5c98",
   "metadata": {},
   "outputs": [
    {
     "data": {
      "text/plain": [
       "(4500, 4)"
      ]
     },
     "execution_count": 4,
     "metadata": {},
     "output_type": "execute_result"
    }
   ],
   "source": [
    "logs = pd.read_csv('DATA/logs.csv')    # loading the dataset 2\n",
    "logs.shape"
   ]
  },
  {
   "cell_type": "code",
   "execution_count": 5,
   "id": "312fd766-4660-4c1b-b2f9-3082440486b0",
   "metadata": {},
   "outputs": [
    {
     "data": {
      "text/html": [
       "<div>\n",
       "<style scoped>\n",
       "    .dataframe tbody tr th:only-of-type {\n",
       "        vertical-align: middle;\n",
       "    }\n",
       "\n",
       "    .dataframe tbody tr th {\n",
       "        vertical-align: top;\n",
       "    }\n",
       "\n",
       "    .dataframe thead th {\n",
       "        text-align: right;\n",
       "    }\n",
       "</style>\n",
       "<table border=\"1\" class=\"dataframe\">\n",
       "  <thead>\n",
       "    <tr style=\"text-align: right;\">\n",
       "      <th></th>\n",
       "      <th>client</th>\n",
       "      <th>success</th>\n",
       "      <th>platform</th>\n",
       "      <th>time</th>\n",
       "    </tr>\n",
       "  </thead>\n",
       "  <tbody>\n",
       "    <tr>\n",
       "      <th>3311</th>\n",
       "      <td>52373</td>\n",
       "      <td>True</td>\n",
       "      <td>phone</td>\n",
       "      <td>1585405142</td>\n",
       "    </tr>\n",
       "    <tr>\n",
       "      <th>3690</th>\n",
       "      <td>21515</td>\n",
       "      <td>False</td>\n",
       "      <td>phone</td>\n",
       "      <td>1585410120</td>\n",
       "    </tr>\n",
       "    <tr>\n",
       "      <th>1043</th>\n",
       "      <td>28007</td>\n",
       "      <td>True</td>\n",
       "      <td>phone</td>\n",
       "      <td>1585464018</td>\n",
       "    </tr>\n",
       "    <tr>\n",
       "      <th>4064</th>\n",
       "      <td>50065</td>\n",
       "      <td>True</td>\n",
       "      <td>phone</td>\n",
       "      <td>1585437202</td>\n",
       "    </tr>\n",
       "    <tr>\n",
       "      <th>3</th>\n",
       "      <td>9961</td>\n",
       "      <td>True</td>\n",
       "      <td>phone</td>\n",
       "      <td>1585400189</td>\n",
       "    </tr>\n",
       "    <tr>\n",
       "      <th>494</th>\n",
       "      <td>96199</td>\n",
       "      <td>True</td>\n",
       "      <td>computer</td>\n",
       "      <td>1585422861</td>\n",
       "    </tr>\n",
       "    <tr>\n",
       "      <th>1838</th>\n",
       "      <td>35472</td>\n",
       "      <td>True</td>\n",
       "      <td>phone</td>\n",
       "      <td>1585405598</td>\n",
       "    </tr>\n",
       "  </tbody>\n",
       "</table>\n",
       "</div>"
      ],
      "text/plain": [
       "      client  success  platform        time\n",
       "3311   52373     True     phone  1585405142\n",
       "3690   21515    False     phone  1585410120\n",
       "1043   28007     True     phone  1585464018\n",
       "4064   50065     True     phone  1585437202\n",
       "3       9961     True     phone  1585400189\n",
       "494    96199     True  computer  1585422861\n",
       "1838   35472     True     phone  1585405598"
      ]
     },
     "execution_count": 5,
     "metadata": {},
     "output_type": "execute_result"
    }
   ],
   "source": [
    "logs.sample(7)"
   ]
  },
  {
   "cell_type": "markdown",
   "id": "1854eaa9-17bc-41b9-b238-5ab17256dabc",
   "metadata": {},
   "source": [
    "The second dataset contains more information: 4 500 lines and 4 columns"
   ]
  },
  {
   "cell_type": "code",
   "execution_count": 6,
   "id": "04e1aa9f-119b-45f8-be1b-a35d8192e2e1",
   "metadata": {},
   "outputs": [
    {
     "name": "stdout",
     "output_type": "stream",
     "text": [
      "<class 'pandas.core.frame.DataFrame'>\n",
      "RangeIndex: 2954 entries, 0 to 2953\n",
      "Data columns (total 3 columns):\n",
      " #   Column   Non-Null Count  Dtype\n",
      "---  ------   --------------  -----\n",
      " 0   client   2954 non-null   int64\n",
      " 1   premium  2954 non-null   bool \n",
      " 2   age      2954 non-null   int64\n",
      "dtypes: bool(1), int64(2)\n",
      "memory usage: 49.2 KB\n"
     ]
    }
   ],
   "source": [
    "user_data.info()"
   ]
  },
  {
   "cell_type": "code",
   "execution_count": 7,
   "id": "d91ebf6f-ccb6-4f15-922e-c431581198b7",
   "metadata": {},
   "outputs": [
    {
     "name": "stdout",
     "output_type": "stream",
     "text": [
      "<class 'pandas.core.frame.DataFrame'>\n",
      "RangeIndex: 4500 entries, 0 to 4499\n",
      "Data columns (total 4 columns):\n",
      " #   Column    Non-Null Count  Dtype \n",
      "---  ------    --------------  ----- \n",
      " 0   client    4500 non-null   int64 \n",
      " 1   success   4500 non-null   bool  \n",
      " 2   platform  4500 non-null   object\n",
      " 3   time      4500 non-null   int64 \n",
      "dtypes: bool(1), int64(2), object(1)\n",
      "memory usage: 110.0+ KB\n"
     ]
    }
   ],
   "source": [
    "logs.info()"
   ]
  },
  {
   "cell_type": "markdown",
   "id": "a2b2629e-a610-4d99-9a9a-15c680ba107e",
   "metadata": {},
   "source": [
    "In both dataframes there aren't missing (non-null) values.  \n",
    "As data in column 'platform' has object type let's look at unique values of the 'platform'"
   ]
  },
  {
   "cell_type": "code",
   "execution_count": 8,
   "id": "63b0d627-4fe5-40be-8196-bd0c6c5d9596",
   "metadata": {},
   "outputs": [
    {
     "data": {
      "text/plain": [
       "client      4011\n",
       "success        2\n",
       "platform       3\n",
       "time        4376\n",
       "dtype: int64"
      ]
     },
     "execution_count": 8,
     "metadata": {},
     "output_type": "execute_result"
    }
   ],
   "source": [
    "logs.nunique()"
   ]
  },
  {
   "cell_type": "code",
   "execution_count": 9,
   "id": "f0ea542d-7f45-4d65-a976-405c535acd49",
   "metadata": {},
   "outputs": [
    {
     "data": {
      "text/plain": [
       "array(['phone', 'computer', 'tablet'], dtype=object)"
      ]
     },
     "execution_count": 9,
     "metadata": {},
     "output_type": "execute_result"
    }
   ],
   "source": [
    "logs['platform'].unique()"
   ]
  },
  {
   "cell_type": "markdown",
   "id": "8a44f359-eec0-4505-a292-77e621e911ac",
   "metadata": {},
   "source": [
    "  "
   ]
  },
  {
   "cell_type": "markdown",
   "id": "26e2801d-55ed-4a8e-9a21-86c2d1c96dc8",
   "metadata": {},
   "source": [
    "#### 2. Clients who made the most of successful orders"
   ]
  },
  {
   "cell_type": "markdown",
   "id": "a300510f-9450-4b07-8d3c-e9c01accbbf1",
   "metadata": {},
   "source": [
    "We will see which clients have made the most of successful orders."
   ]
  },
  {
   "cell_type": "code",
   "execution_count": 10,
   "id": "9bb9e4fe-d605-4518-9d55-a2f7c055b98d",
   "metadata": {},
   "outputs": [
    {
     "data": {
      "text/html": [
       "<div>\n",
       "<style scoped>\n",
       "    .dataframe tbody tr th:only-of-type {\n",
       "        vertical-align: middle;\n",
       "    }\n",
       "\n",
       "    .dataframe tbody tr th {\n",
       "        vertical-align: top;\n",
       "    }\n",
       "\n",
       "    .dataframe thead th {\n",
       "        text-align: right;\n",
       "    }\n",
       "</style>\n",
       "<table border=\"1\" class=\"dataframe\">\n",
       "  <thead>\n",
       "    <tr style=\"text-align: right;\">\n",
       "      <th></th>\n",
       "      <th>client</th>\n",
       "      <th>successful_orders</th>\n",
       "    </tr>\n",
       "  </thead>\n",
       "  <tbody>\n",
       "    <tr>\n",
       "      <th>0</th>\n",
       "      <td>12179</td>\n",
       "      <td>41</td>\n",
       "    </tr>\n",
       "    <tr>\n",
       "      <th>1</th>\n",
       "      <td>61468</td>\n",
       "      <td>41</td>\n",
       "    </tr>\n",
       "    <tr>\n",
       "      <th>2</th>\n",
       "      <td>52870</td>\n",
       "      <td>41</td>\n",
       "    </tr>\n",
       "    <tr>\n",
       "      <th>3</th>\n",
       "      <td>61473</td>\n",
       "      <td>41</td>\n",
       "    </tr>\n",
       "    <tr>\n",
       "      <th>4</th>\n",
       "      <td>92584</td>\n",
       "      <td>41</td>\n",
       "    </tr>\n",
       "    <tr>\n",
       "      <th>5</th>\n",
       "      <td>82563</td>\n",
       "      <td>41</td>\n",
       "    </tr>\n",
       "    <tr>\n",
       "      <th>6</th>\n",
       "      <td>78349</td>\n",
       "      <td>41</td>\n",
       "    </tr>\n",
       "    <tr>\n",
       "      <th>7</th>\n",
       "      <td>36165</td>\n",
       "      <td>41</td>\n",
       "    </tr>\n",
       "    <tr>\n",
       "      <th>8</th>\n",
       "      <td>28719</td>\n",
       "      <td>41</td>\n",
       "    </tr>\n",
       "    <tr>\n",
       "      <th>9</th>\n",
       "      <td>64064</td>\n",
       "      <td>40</td>\n",
       "    </tr>\n",
       "  </tbody>\n",
       "</table>\n",
       "</div>"
      ],
      "text/plain": [
       "   client  successful_orders\n",
       "0   12179                 41\n",
       "1   61468                 41\n",
       "2   52870                 41\n",
       "3   61473                 41\n",
       "4   92584                 41\n",
       "5   82563                 41\n",
       "6   78349                 41\n",
       "7   36165                 41\n",
       "8   28719                 41\n",
       "9   64064                 40"
      ]
     },
     "execution_count": 10,
     "metadata": {},
     "output_type": "execute_result"
    }
   ],
   "source": [
    "# Creating a new dataframe with successful operations (success == True)\n",
    "\n",
    "success_clients = logs.query('success == True').value_counts('client')  \\\n",
    "                      .reset_index().rename(columns={0: 'successful_orders'})\n",
    "\n",
    "success_clients.head(10)"
   ]
  },
  {
   "cell_type": "markdown",
   "id": "03706dde-1153-4ffc-a545-2f8b11be9b8b",
   "metadata": {},
   "source": [
    "9 customers have made the same maximum number of successful orders"
   ]
  },
  {
   "cell_type": "code",
   "execution_count": 11,
   "id": "1a61ce39-4eab-46c6-9fb0-3069ed00bfa2",
   "metadata": {},
   "outputs": [
    {
     "data": {
      "text/plain": [
       "[12179, 28719, 36165, 52870, 61468, 61473, 78349, 82563, 92584]"
      ]
     },
     "execution_count": 11,
     "metadata": {},
     "output_type": "execute_result"
    }
   ],
   "source": [
    "top_success_clients = success_clients.head(9).sort_values('client')\n",
    "\n",
    "# Methods, converting Pandas DataFrame into a list\n",
    "\n",
    "list(top_success_clients['client'])        # method 1\n",
    "top_success_clients['client'].tolist()     # method 2"
   ]
  },
  {
   "cell_type": "markdown",
   "id": "3f728040-9c93-48e6-a627-15586a963384",
   "metadata": {},
   "source": [
    "  "
   ]
  },
  {
   "cell_type": "markdown",
   "id": "752cd4e9-3fe1-4a50-b5c3-f0d04afd8f77",
   "metadata": {},
   "source": [
    "#### 3. The most popular platform (the type of device)"
   ]
  },
  {
   "cell_type": "markdown",
   "id": "bd8fb71c-222f-4fd2-9d61-315d321a0101",
   "metadata": {},
   "source": [
    "Below you can see that the platform with the most number of successful orders is a phone."
   ]
  },
  {
   "cell_type": "code",
   "execution_count": 12,
   "id": "22a2b3ae-e2a4-4db5-b167-e61d63687792",
   "metadata": {},
   "outputs": [
    {
     "data": {
      "text/plain": [
       "platform\n",
       "phone       2019\n",
       "computer    1090\n",
       "tablet       180\n",
       "dtype: int64"
      ]
     },
     "execution_count": 12,
     "metadata": {},
     "output_type": "execute_result"
    }
   ],
   "source": [
    "logs.query('success == True').value_counts('platform')"
   ]
  },
  {
   "cell_type": "markdown",
   "id": "e1bf2a02-d523-4986-8da5-37a6431001ad",
   "metadata": {},
   "source": [
    "We will find out the most popular platform among premium clients"
   ]
  },
  {
   "cell_type": "code",
   "execution_count": 13,
   "id": "d36dd465-0f5a-4965-8152-b2f049daa470",
   "metadata": {},
   "outputs": [
    {
     "data": {
      "text/html": [
       "<div>\n",
       "<style scoped>\n",
       "    .dataframe tbody tr th:only-of-type {\n",
       "        vertical-align: middle;\n",
       "    }\n",
       "\n",
       "    .dataframe tbody tr th {\n",
       "        vertical-align: top;\n",
       "    }\n",
       "\n",
       "    .dataframe thead th {\n",
       "        text-align: right;\n",
       "    }\n",
       "</style>\n",
       "<table border=\"1\" class=\"dataframe\">\n",
       "  <thead>\n",
       "    <tr style=\"text-align: right;\">\n",
       "      <th></th>\n",
       "      <th>client</th>\n",
       "      <th>premium</th>\n",
       "      <th>age</th>\n",
       "      <th>success</th>\n",
       "      <th>platform</th>\n",
       "      <th>time</th>\n",
       "    </tr>\n",
       "  </thead>\n",
       "  <tbody>\n",
       "    <tr>\n",
       "      <th>0</th>\n",
       "      <td>46346</td>\n",
       "      <td>False</td>\n",
       "      <td>58</td>\n",
       "      <td>True</td>\n",
       "      <td>phone</td>\n",
       "      <td>1585452839</td>\n",
       "    </tr>\n",
       "    <tr>\n",
       "      <th>1</th>\n",
       "      <td>4391</td>\n",
       "      <td>False</td>\n",
       "      <td>55</td>\n",
       "      <td>False</td>\n",
       "      <td>phone</td>\n",
       "      <td>1585409861</td>\n",
       "    </tr>\n",
       "    <tr>\n",
       "      <th>2</th>\n",
       "      <td>27372</td>\n",
       "      <td>False</td>\n",
       "      <td>64</td>\n",
       "      <td>False</td>\n",
       "      <td>phone</td>\n",
       "      <td>1585446018</td>\n",
       "    </tr>\n",
       "    <tr>\n",
       "      <th>3</th>\n",
       "      <td>11989</td>\n",
       "      <td>False</td>\n",
       "      <td>44</td>\n",
       "      <td>True</td>\n",
       "      <td>computer</td>\n",
       "      <td>1585403698</td>\n",
       "    </tr>\n",
       "    <tr>\n",
       "      <th>4</th>\n",
       "      <td>60664</td>\n",
       "      <td>False</td>\n",
       "      <td>49</td>\n",
       "      <td>True</td>\n",
       "      <td>phone</td>\n",
       "      <td>1585406918</td>\n",
       "    </tr>\n",
       "    <tr>\n",
       "      <th>5</th>\n",
       "      <td>78605</td>\n",
       "      <td>False</td>\n",
       "      <td>36</td>\n",
       "      <td>True</td>\n",
       "      <td>tablet</td>\n",
       "      <td>1585430330</td>\n",
       "    </tr>\n",
       "    <tr>\n",
       "      <th>6</th>\n",
       "      <td>78605</td>\n",
       "      <td>False</td>\n",
       "      <td>36</td>\n",
       "      <td>False</td>\n",
       "      <td>phone</td>\n",
       "      <td>1585461704</td>\n",
       "    </tr>\n",
       "  </tbody>\n",
       "</table>\n",
       "</div>"
      ],
      "text/plain": [
       "   client  premium  age  success  platform        time\n",
       "0   46346    False   58     True     phone  1585452839\n",
       "1    4391    False   55    False     phone  1585409861\n",
       "2   27372    False   64    False     phone  1585446018\n",
       "3   11989    False   44     True  computer  1585403698\n",
       "4   60664    False   49     True     phone  1585406918\n",
       "5   78605    False   36     True    tablet  1585430330\n",
       "6   78605    False   36    False     phone  1585461704"
      ]
     },
     "execution_count": 13,
     "metadata": {},
     "output_type": "execute_result"
    }
   ],
   "source": [
    "# Joining dataframes, the general colunm - 'client' containing user ID numbers\n",
    "\n",
    "user_data_logs = user_data.merge(logs, on='client', how='inner')\n",
    "user_data_logs.head(7)"
   ]
  },
  {
   "cell_type": "code",
   "execution_count": 14,
   "id": "95438e4f-a66f-48a5-8db5-3e64927c819c",
   "metadata": {},
   "outputs": [
    {
     "data": {
      "text/plain": [
       "platform\n",
       "phone       246\n",
       "computer    150\n",
       "tablet       24\n",
       "dtype: int64"
      ]
     },
     "execution_count": 14,
     "metadata": {},
     "output_type": "execute_result"
    }
   ],
   "source": [
    "user_data_logs.query('premium == True').value_counts('platform')"
   ]
  },
  {
   "cell_type": "markdown",
   "id": "3f4a34c6-0d46-40eb-be52-4f5dcd31e303",
   "metadata": {},
   "source": [
    "The same platform (phone) is most popular among premium clients"
   ]
  },
  {
   "cell_type": "markdown",
   "id": "cfebd696-eca5-40ae-8b29-7dcd4d40624b",
   "metadata": {},
   "source": [
    "  "
   ]
  },
  {
   "cell_type": "markdown",
   "id": "9afa7d66-c75f-4006-9a1b-89d50d05326a",
   "metadata": {},
   "source": [
    "#### 4. Premium and non-premium clients per age"
   ]
  },
  {
   "cell_type": "markdown",
   "id": "55cbc0af-39ce-44e2-89b5-4ca9fa15e1f8",
   "metadata": {},
   "source": [
    "We will visualize client age distribution depending on client type (premium or non-premium)"
   ]
  },
  {
   "cell_type": "code",
   "execution_count": 15,
   "id": "56b5add0-0605-492c-815e-9c490aaa5e06",
   "metadata": {},
   "outputs": [
    {
     "data": {
      "text/plain": [
       "<AxesSubplot: xlabel='age', ylabel='Density'>"
      ]
     },
     "execution_count": 15,
     "metadata": {},
     "output_type": "execute_result"
    },
    {
     "data": {
      "image/png": "[encoded data removed]",
      "text/plain": [
       "<Figure size 640x480 with 1 Axes>"
      ]
     },
     "metadata": {},
     "output_type": "display_data"
    }
   ],
   "source": [
    "# A histogram represents the distribution of client types by counting the number of observations\n",
    "\n",
    "sns.histplot(data=user_data_logs, x='age', hue='premium', stat='density')\n"
   ]
  },
  {
   "cell_type": "markdown",
   "id": "ef03f0fd-b665-4c57-a2be-6d04c7210652",
   "metadata": {},
   "source": [
    "This graph shows the normalized density distribution, where blue color is related to non-premium clients,  \n",
    "grey color is related to intersected areas of premium and non-premium clients.  \n",
    "There are maxima of non-premium cleints in ages 66-69, 45 and 25-32. However maxima are not obvious.  \n",
    "Premium users tend to have uniform age distribution."
   ]
  },
  {
   "cell_type": "markdown",
   "id": "5e71a250-d4c1-400e-bca1-651be9ae4aaa",
   "metadata": {},
   "source": [
    "  "
   ]
  },
  {
   "cell_type": "markdown",
   "id": "3fdb0d17-f425-4f2a-ac27-5a3582edd0aa",
   "metadata": {},
   "source": [
    "#### 5. How many successful orders have the most of the clients made?"
   ]
  },
  {
   "cell_type": "markdown",
   "id": "e45680cb-4106-4e3b-929c-02f95d7438c8",
   "metadata": {},
   "source": [
    "We will plot the counts of successful orders distribution for counts of cilents made that counts of successful orders.  \n",
    "We have already dataframe success_clients."
   ]
  },
  {
   "cell_type": "code",
   "execution_count": 16,
   "id": "9d93751d-0253-480e-85cb-d2f0218d1987",
   "metadata": {},
   "outputs": [
    {
     "data": {
      "text/html": [
       "<div>\n",
       "<style scoped>\n",
       "    .dataframe tbody tr th:only-of-type {\n",
       "        vertical-align: middle;\n",
       "    }\n",
       "\n",
       "    .dataframe tbody tr th {\n",
       "        vertical-align: top;\n",
       "    }\n",
       "\n",
       "    .dataframe thead th {\n",
       "        text-align: right;\n",
       "    }\n",
       "</style>\n",
       "<table border=\"1\" class=\"dataframe\">\n",
       "  <thead>\n",
       "    <tr style=\"text-align: right;\">\n",
       "      <th></th>\n",
       "      <th>client</th>\n",
       "      <th>successful_orders</th>\n",
       "    </tr>\n",
       "  </thead>\n",
       "  <tbody>\n",
       "    <tr>\n",
       "      <th>0</th>\n",
       "      <td>12179</td>\n",
       "      <td>41</td>\n",
       "    </tr>\n",
       "    <tr>\n",
       "      <th>1</th>\n",
       "      <td>61468</td>\n",
       "      <td>41</td>\n",
       "    </tr>\n",
       "    <tr>\n",
       "      <th>2</th>\n",
       "      <td>52870</td>\n",
       "      <td>41</td>\n",
       "    </tr>\n",
       "    <tr>\n",
       "      <th>3</th>\n",
       "      <td>61473</td>\n",
       "      <td>41</td>\n",
       "    </tr>\n",
       "    <tr>\n",
       "      <th>4</th>\n",
       "      <td>92584</td>\n",
       "      <td>41</td>\n",
       "    </tr>\n",
       "    <tr>\n",
       "      <th>...</th>\n",
       "      <td>...</td>\n",
       "      <td>...</td>\n",
       "    </tr>\n",
       "    <tr>\n",
       "      <th>2840</th>\n",
       "      <td>34121</td>\n",
       "      <td>1</td>\n",
       "    </tr>\n",
       "    <tr>\n",
       "      <th>2841</th>\n",
       "      <td>34191</td>\n",
       "      <td>1</td>\n",
       "    </tr>\n",
       "    <tr>\n",
       "      <th>2842</th>\n",
       "      <td>34198</td>\n",
       "      <td>1</td>\n",
       "    </tr>\n",
       "    <tr>\n",
       "      <th>2843</th>\n",
       "      <td>34277</td>\n",
       "      <td>1</td>\n",
       "    </tr>\n",
       "    <tr>\n",
       "      <th>2844</th>\n",
       "      <td>99993</td>\n",
       "      <td>1</td>\n",
       "    </tr>\n",
       "  </tbody>\n",
       "</table>\n",
       "<p>2845 rows × 2 columns</p>\n",
       "</div>"
      ],
      "text/plain": [
       "      client  successful_orders\n",
       "0      12179                 41\n",
       "1      61468                 41\n",
       "2      52870                 41\n",
       "3      61473                 41\n",
       "4      92584                 41\n",
       "...      ...                ...\n",
       "2840   34121                  1\n",
       "2841   34191                  1\n",
       "2842   34198                  1\n",
       "2843   34277                  1\n",
       "2844   99993                  1\n",
       "\n",
       "[2845 rows x 2 columns]"
      ]
     },
     "execution_count": 16,
     "metadata": {},
     "output_type": "execute_result"
    }
   ],
   "source": [
    "\n",
    "success_clients\n"
   ]
  },
  {
   "cell_type": "code",
   "execution_count": 17,
   "id": "bfab6c8e-e830-4ead-bbdb-0ac9bb0dbf16",
   "metadata": {},
   "outputs": [
    {
     "data": {
      "text/plain": [
       "<AxesSubplot: xlabel='successful_orders', ylabel='count'>"
      ]
     },
     "execution_count": 17,
     "metadata": {},
     "output_type": "execute_result"
    },
    {
     "data": {
      "image/png": "[encoded data removed]",
      "text/plain": [
       "<Figure size 640x480 with 1 Axes>"
      ]
     },
     "metadata": {},
     "output_type": "display_data"
    }
   ],
   "source": [
    "sns.countplot(data=success_clients, x='successful_orders')\n",
    "\n",
    "# Show the counts of observations in each(!) categorical bin."
   ]
  },
  {
   "cell_type": "markdown",
   "id": "248c053e-0658-4b83-8ae2-f197236a5a92",
   "metadata": {},
   "source": [
    "Most of the clients have made 1-3 successful orders.  \n",
    "A minor part of the clients have made 40 and 41 operations."
   ]
  },
  {
   "cell_type": "markdown",
   "id": "f99e928a-4311-4294-9f3b-b5937a0ce349",
   "metadata": {},
   "source": [
    "  "
   ]
  },
  {
   "cell_type": "markdown",
   "id": "aac8dfd1-5474-4646-961b-d3048d66ca24",
   "metadata": {},
   "source": [
    "#### 6. Successful orders made with computer per client age"
   ]
  },
  {
   "cell_type": "markdown",
   "id": "82096147-7044-446a-823f-f555fdb65059",
   "metadata": {},
   "source": [
    "We will visualize the distribution of the successful orders made with computer depending on client age.  "
   ]
  },
  {
   "cell_type": "code",
   "execution_count": 18,
   "id": "bfc7d0ad-782e-45dc-b83a-b15ed2d4167e",
   "metadata": {},
   "outputs": [
    {
     "data": {
      "text/html": [
       "<div>\n",
       "<style scoped>\n",
       "    .dataframe tbody tr th:only-of-type {\n",
       "        vertical-align: middle;\n",
       "    }\n",
       "\n",
       "    .dataframe tbody tr th {\n",
       "        vertical-align: top;\n",
       "    }\n",
       "\n",
       "    .dataframe thead th {\n",
       "        text-align: right;\n",
       "    }\n",
       "</style>\n",
       "<table border=\"1\" class=\"dataframe\">\n",
       "  <thead>\n",
       "    <tr style=\"text-align: right;\">\n",
       "      <th></th>\n",
       "      <th>client</th>\n",
       "      <th>premium</th>\n",
       "      <th>age</th>\n",
       "      <th>success</th>\n",
       "      <th>platform</th>\n",
       "      <th>time</th>\n",
       "    </tr>\n",
       "  </thead>\n",
       "  <tbody>\n",
       "    <tr>\n",
       "      <th>3</th>\n",
       "      <td>11989</td>\n",
       "      <td>False</td>\n",
       "      <td>44</td>\n",
       "      <td>True</td>\n",
       "      <td>computer</td>\n",
       "      <td>1585403698</td>\n",
       "    </tr>\n",
       "    <tr>\n",
       "      <th>12</th>\n",
       "      <td>32406</td>\n",
       "      <td>False</td>\n",
       "      <td>24</td>\n",
       "      <td>True</td>\n",
       "      <td>computer</td>\n",
       "      <td>1585479382</td>\n",
       "    </tr>\n",
       "    <tr>\n",
       "      <th>14</th>\n",
       "      <td>62404</td>\n",
       "      <td>False</td>\n",
       "      <td>40</td>\n",
       "      <td>True</td>\n",
       "      <td>computer</td>\n",
       "      <td>1585430097</td>\n",
       "    </tr>\n",
       "    <tr>\n",
       "      <th>20</th>\n",
       "      <td>68848</td>\n",
       "      <td>False</td>\n",
       "      <td>35</td>\n",
       "      <td>True</td>\n",
       "      <td>computer</td>\n",
       "      <td>1585440553</td>\n",
       "    </tr>\n",
       "    <tr>\n",
       "      <th>26</th>\n",
       "      <td>49675</td>\n",
       "      <td>False</td>\n",
       "      <td>48</td>\n",
       "      <td>True</td>\n",
       "      <td>computer</td>\n",
       "      <td>1585402108</td>\n",
       "    </tr>\n",
       "  </tbody>\n",
       "</table>\n",
       "</div>"
      ],
      "text/plain": [
       "    client  premium  age  success  platform        time\n",
       "3    11989    False   44     True  computer  1585403698\n",
       "12   32406    False   24     True  computer  1585479382\n",
       "14   62404    False   40     True  computer  1585430097\n",
       "20   68848    False   35     True  computer  1585440553\n",
       "26   49675    False   48     True  computer  1585402108"
      ]
     },
     "execution_count": 18,
     "metadata": {},
     "output_type": "execute_result"
    }
   ],
   "source": [
    "user_data_logs.query('success == True and platform == \"computer\"').head(5)"
   ]
  },
  {
   "cell_type": "code",
   "execution_count": 19,
   "id": "75518b23-f6c8-4cb1-b989-ec896acf964a",
   "metadata": {},
   "outputs": [
    {
     "data": {
      "text/plain": [
       "Text(0.5, 1.0, 'Distribution of the orders made with computer depending on client age')"
      ]
     },
     "execution_count": 19,
     "metadata": {},
     "output_type": "execute_result"
    },
    {
     "data": {
      "image/png": "[encoded data removed]",
      "text/plain": [
       "<Figure size 1200x800 with 1 Axes>"
      ]
     },
     "metadata": {},
     "output_type": "display_data"
    }
   ],
   "source": [
    "plt.figure(figsize=(12, 8))\n",
    "ax = sns.countplot(data=user_data_logs.query('success == True and platform == \"computer\"'), x='age')\n",
    "ax.set(ylabel='orders')\n",
    "plt.title(\"Distribution of the orders made with computer depending on client age\")"
   ]
  },
  {
   "cell_type": "markdown",
   "id": "4473d033-8ca5-4272-a0cd-f9d0bc2ea111",
   "metadata": {},
   "source": [
    "The graph shows that the maximum age of clients made orders with computer is 28 years old, minimum age is 53 years old."
   ]
  },
  {
   "cell_type": "code",
   "execution_count": null,
   "id": "3e3e75ce-b9cf-4706-998a-ae76375f80fc",
   "metadata": {},
   "outputs": [],
   "source": []
  }
 ],
 "metadata": {
  "kernelspec": {
   "display_name": "Python 3 (ipykernel)",
   "language": "python",
   "name": "python3"
  },
  "language_info": {
   "codemirror_mode": {
    "name": "ipython",
    "version": 3
   },
   "file_extension": ".py",
   "mimetype": "text/x-python",
   "name": "python",
   "nbconvert_exporter": "python",
   "pygments_lexer": "ipython3",
   "version": "3.10.5"
  }
 },
 "nbformat": 4,
 "nbformat_minor": 5
}
